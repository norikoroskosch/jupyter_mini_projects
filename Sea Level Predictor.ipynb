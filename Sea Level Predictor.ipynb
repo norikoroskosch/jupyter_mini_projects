{
 "cells": [
  {
   "cell_type": "markdown",
   "id": "2ea0a737-6c14-4e15-bd46-7e7edb3267ce",
   "metadata": {},
   "source": [
    "## Mini Project/Sea Level Predictor"
   ]
  },
  {
   "cell_type": "code",
   "execution_count": 1,
   "id": "682a95a5-a645-4a7c-b0b9-ab5abd3650ca",
   "metadata": {},
   "outputs": [],
   "source": [
    "import pandas as pd\n",
    "import matplotlib.pyplot as plt\n",
    "import numpy as np\n",
    "from scipy.stats import linregress as st\n"
   ]
  },
  {
   "cell_type": "markdown",
   "id": "1075ca03-ac3d-4176-b6a2-579b1ae0a368",
   "metadata": {},
   "source": [
    "##### Read dataset"
   ]
  },
  {
   "cell_type": "code",
   "execution_count": 2,
   "id": "5534edec-63f6-4cbe-83a0-1c7b181cb629",
   "metadata": {},
   "outputs": [],
   "source": [
    "df = pd.read_csv('epa-sea-level.csv')"
   ]
  },
  {
   "cell_type": "markdown",
   "id": "2f4a7bb6-b6fd-4a06-bfd5-ce63f5b73b72",
   "metadata": {},
   "source": [
    "##### Dataset overview"
   ]
  },
  {
   "cell_type": "code",
   "execution_count": 3,
   "id": "7492bddc-1399-4d74-ada0-90419d942bff",
   "metadata": {},
   "outputs": [
    {
     "data": {
      "text/html": [
       "<div>\n",
       "<style scoped>\n",
       "    .dataframe tbody tr th:only-of-type {\n",
       "        vertical-align: middle;\n",
       "    }\n",
       "\n",
       "    .dataframe tbody tr th {\n",
       "        vertical-align: top;\n",
       "    }\n",
       "\n",
       "    .dataframe thead th {\n",
       "        text-align: right;\n",
       "    }\n",
       "</style>\n",
       "<table border=\"1\" class=\"dataframe\">\n",
       "  <thead>\n",
       "    <tr style=\"text-align: right;\">\n",
       "      <th></th>\n",
       "      <th>Year</th>\n",
       "      <th>CSIRO Adjusted Sea Level</th>\n",
       "      <th>Lower Error Bound</th>\n",
       "      <th>Upper Error Bound</th>\n",
       "      <th>NOAA Adjusted Sea Level</th>\n",
       "    </tr>\n",
       "  </thead>\n",
       "  <tbody>\n",
       "    <tr>\n",
       "      <th>0</th>\n",
       "      <td>1880</td>\n",
       "      <td>0.000000</td>\n",
       "      <td>-0.952756</td>\n",
       "      <td>0.952756</td>\n",
       "      <td>NaN</td>\n",
       "    </tr>\n",
       "    <tr>\n",
       "      <th>1</th>\n",
       "      <td>1881</td>\n",
       "      <td>0.220472</td>\n",
       "      <td>-0.732283</td>\n",
       "      <td>1.173228</td>\n",
       "      <td>NaN</td>\n",
       "    </tr>\n",
       "    <tr>\n",
       "      <th>2</th>\n",
       "      <td>1882</td>\n",
       "      <td>-0.440945</td>\n",
       "      <td>-1.346457</td>\n",
       "      <td>0.464567</td>\n",
       "      <td>NaN</td>\n",
       "    </tr>\n",
       "    <tr>\n",
       "      <th>3</th>\n",
       "      <td>1883</td>\n",
       "      <td>-0.232283</td>\n",
       "      <td>-1.129921</td>\n",
       "      <td>0.665354</td>\n",
       "      <td>NaN</td>\n",
       "    </tr>\n",
       "    <tr>\n",
       "      <th>4</th>\n",
       "      <td>1884</td>\n",
       "      <td>0.590551</td>\n",
       "      <td>-0.283465</td>\n",
       "      <td>1.464567</td>\n",
       "      <td>NaN</td>\n",
       "    </tr>\n",
       "  </tbody>\n",
       "</table>\n",
       "</div>"
      ],
      "text/plain": [
       "   Year  CSIRO Adjusted Sea Level  Lower Error Bound  Upper Error Bound  \\\n",
       "0  1880                  0.000000          -0.952756           0.952756   \n",
       "1  1881                  0.220472          -0.732283           1.173228   \n",
       "2  1882                 -0.440945          -1.346457           0.464567   \n",
       "3  1883                 -0.232283          -1.129921           0.665354   \n",
       "4  1884                  0.590551          -0.283465           1.464567   \n",
       "\n",
       "   NOAA Adjusted Sea Level  \n",
       "0                      NaN  \n",
       "1                      NaN  \n",
       "2                      NaN  \n",
       "3                      NaN  \n",
       "4                      NaN  "
      ]
     },
     "execution_count": 3,
     "metadata": {},
     "output_type": "execute_result"
    }
   ],
   "source": [
    "df.head()"
   ]
  },
  {
   "cell_type": "code",
   "execution_count": 4,
   "id": "ad02c3d9-891b-4afa-bb80-a687a9f12df7",
   "metadata": {},
   "outputs": [
    {
     "data": {
      "text/plain": [
       "Year                          0\n",
       "CSIRO Adjusted Sea Level      0\n",
       "Lower Error Bound             0\n",
       "Upper Error Bound             0\n",
       "NOAA Adjusted Sea Level     113\n",
       "dtype: int64"
      ]
     },
     "execution_count": 4,
     "metadata": {},
     "output_type": "execute_result"
    }
   ],
   "source": [
    "df.isnull().sum()"
   ]
  },
  {
   "cell_type": "code",
   "execution_count": 5,
   "id": "930981e0-d161-47a0-b927-b585c2acb6a8",
   "metadata": {},
   "outputs": [
    {
     "data": {
      "text/plain": [
       "(134, 5)"
      ]
     },
     "execution_count": 5,
     "metadata": {},
     "output_type": "execute_result"
    }
   ],
   "source": [
    "df.shape"
   ]
  },
  {
   "cell_type": "markdown",
   "id": "3de402ef-b7c6-437d-b20e-53cca2e4ba23",
   "metadata": {},
   "source": [
    "#### Use matplotlib to create a scatter plot using the \"Year\" column as the x-axis and the \"CSIRO Adjusted Sea Level\" column as the y-axix."
   ]
  },
  {
   "cell_type": "code",
   "execution_count": 6,
   "id": "184f0a2b-a8fa-43c5-a9f8-303615e64dd7",
   "metadata": {},
   "outputs": [
    {
     "data": {
      "image/png": "[encoded data removed]",
      "text/plain": [
       "<Figure size 720x576 with 1 Axes>"
      ]
     },
     "metadata": {},
     "output_type": "display_data"
    }
   ],
   "source": [
    "plt.style.use('seaborn')\n",
    "fig, ax = plt.subplots(figsize=(10, 8))\n",
    "df.plot(kind='scatter', x='Year', y='CSIRO Adjusted Sea Level', color='darkred', ax=ax)\n",
    "plt.show()"
   ]
  },
  {
   "cell_type": "markdown",
   "id": "477ab2f5-6ab4-4066-b174-818836f9191a",
   "metadata": {},
   "source": [
    "##### Use the `linregress` function from `scipy.stats` to get the slope and y-intercept of the line of best fit."
   ]
  },
  {
   "cell_type": "code",
   "execution_count": 7,
   "id": "24d8cc5e-c25d-42d8-9ff5-6c33e582ac58",
   "metadata": {},
   "outputs": [
    {
     "name": "stdout",
     "output_type": "stream",
     "text": [
      "slope: 0.06304458401213482, y-intercept: -119.06594196773983, r_value: 0.984757131182585, p_value: 3.788696979113155e-102\n"
     ]
    }
   ],
   "source": [
    "x = df['Year']\n",
    "y = df['CSIRO Adjusted Sea Level']\n",
    "slope, intercept, r_value, p_value, std_err = st(x,y)\n",
    "print(f'slope: {slope}, y-intercept: {intercept}, r_value: {r_value}, p_value: {p_value}')"
   ]
  },
  {
   "cell_type": "markdown",
   "id": "630e88e9-da3f-44b5-9619-785ce7cdb8f4",
   "metadata": {},
   "source": [
    "##### Plot the line of best fit over the top of the scatter plot. Make the line go through the year 2050 to predict the sea level rise in 2050."
   ]
  },
  {
   "cell_type": "markdown",
   "id": "c75c5c71-f3c7-4898-b19d-3b5170d08a9f",
   "metadata": {},
   "source": [
    "##### Creat np.array"
   ]
  },
  {
   "cell_type": "code",
   "execution_count": 8,
   "id": "efceb5aa-8b54-41cb-8a9c-2c987ad34103",
   "metadata": {},
   "outputs": [
    {
     "data": {
      "text/plain": [
       "array([1880, 1881, 1882, 1883, 1884, 1885, 1886, 1887, 1888, 1889, 1890,\n",
       "       1891, 1892, 1893, 1894, 1895, 1896, 1897, 1898, 1899, 1900, 1901,\n",
       "       1902, 1903, 1904, 1905, 1906, 1907, 1908, 1909, 1910, 1911, 1912,\n",
       "       1913, 1914, 1915, 1916, 1917, 1918, 1919, 1920, 1921, 1922, 1923,\n",
       "       1924, 1925, 1926, 1927, 1928, 1929, 1930, 1931, 1932, 1933, 1934,\n",
       "       1935, 1936, 1937, 1938, 1939, 1940, 1941, 1942, 1943, 1944, 1945,\n",
       "       1946, 1947, 1948, 1949, 1950, 1951, 1952, 1953, 1954, 1955, 1956,\n",
       "       1957, 1958, 1959, 1960, 1961, 1962, 1963, 1964, 1965, 1966, 1967,\n",
       "       1968, 1969, 1970, 1971, 1972, 1973, 1974, 1975, 1976, 1977, 1978,\n",
       "       1979, 1980, 1981, 1982, 1983, 1984, 1985, 1986, 1987, 1988, 1989,\n",
       "       1990, 1991, 1992, 1993, 1994, 1995, 1996, 1997, 1998, 1999, 2000,\n",
       "       2001, 2002, 2003, 2004, 2005, 2006, 2007, 2008, 2009, 2010, 2011,\n",
       "       2012, 2013, 2014, 2015, 2016, 2017, 2018, 2019, 2020, 2021, 2022,\n",
       "       2023, 2024, 2025, 2026, 2027, 2028, 2029, 2030, 2031, 2032, 2033,\n",
       "       2034, 2035, 2036, 2037, 2038, 2039, 2040, 2041, 2042, 2043, 2044,\n",
       "       2045, 2046, 2047, 2048, 2049, 2050], dtype=int64)"
      ]
     },
     "execution_count": 8,
     "metadata": {},
     "output_type": "execute_result"
    }
   ],
   "source": [
    "year_till_2050 = np.arange(df['Year'][0], 2051)\n",
    "year_till_2050"
   ]
  },
  {
   "cell_type": "code",
   "execution_count": 9,
   "id": "b07667b8-83b3-41ab-87f7-bda7f2a2b5da",
   "metadata": {},
   "outputs": [],
   "source": [
    "intercept_till_2050 = slope*year_till_2050 + intercept"
   ]
  },
  {
   "cell_type": "markdown",
   "id": "28dd67b6-eb2c-44bf-aa71-8df8f1ee45a1",
   "metadata": {},
   "source": [
    "##### Plot using np.array"
   ]
  },
  {
   "cell_type": "code",
   "execution_count": 10,
   "id": "def18dd9-ba47-480f-a7e3-0e989697125e",
   "metadata": {},
   "outputs": [
    {
     "data": {
      "image/png": "[encoded data removed]",
      "text/plain": [
       "<Figure size 720x576 with 1 Axes>"
      ]
     },
     "metadata": {},
     "output_type": "display_data"
    }
   ],
   "source": [
    "plt.style.use('seaborn')\n",
    "fig, ax = plt.subplots(figsize=(10, 8))\n",
    "df.plot(kind='scatter', x='Year', y='CSIRO Adjusted Sea Level', color='darkblue', ax=ax)\n",
    "\n",
    "plt.plot(year_till_2050, intercept_till_2050, color='darkred')\n",
    "\n",
    "plt.show()"
   ]
  },
  {
   "cell_type": "markdown",
   "id": "e61b36d1-26dc-40ef-8c24-1d974012d838",
   "metadata": {},
   "source": [
    "#### Plot a new line of best fit just using the data from year 2000 through the most recent year in the dataset. Make the line also go through the year 2050 to predict the sea level rise in 2050 if the rate of rise continues as it has since the year 2000."
   ]
  },
  {
   "cell_type": "markdown",
   "id": "00203ea8-3950-430d-80a2-860e8a95403d",
   "metadata": {},
   "source": [
    "##### Creat new dataset from the year 2000"
   ]
  },
  {
   "cell_type": "code",
   "execution_count": 11,
   "id": "1b049463-2e69-46a6-a467-82a89cabfeea",
   "metadata": {},
   "outputs": [
    {
     "data": {
      "text/html": [
       "<div>\n",
       "<style scoped>\n",
       "    .dataframe tbody tr th:only-of-type {\n",
       "        vertical-align: middle;\n",
       "    }\n",
       "\n",
       "    .dataframe tbody tr th {\n",
       "        vertical-align: top;\n",
       "    }\n",
       "\n",
       "    .dataframe thead th {\n",
       "        text-align: right;\n",
       "    }\n",
       "</style>\n",
       "<table border=\"1\" class=\"dataframe\">\n",
       "  <thead>\n",
       "    <tr style=\"text-align: right;\">\n",
       "      <th></th>\n",
       "      <th>Year</th>\n",
       "      <th>CSIRO Adjusted Sea Level</th>\n",
       "      <th>Lower Error Bound</th>\n",
       "      <th>Upper Error Bound</th>\n",
       "      <th>NOAA Adjusted Sea Level</th>\n",
       "    </tr>\n",
       "  </thead>\n",
       "  <tbody>\n",
       "    <tr>\n",
       "      <th>0</th>\n",
       "      <td>2000</td>\n",
       "      <td>7.062992</td>\n",
       "      <td>6.791339</td>\n",
       "      <td>7.334646</td>\n",
       "      <td>6.920582</td>\n",
       "    </tr>\n",
       "    <tr>\n",
       "      <th>1</th>\n",
       "      <td>2001</td>\n",
       "      <td>7.287402</td>\n",
       "      <td>7.019685</td>\n",
       "      <td>7.555118</td>\n",
       "      <td>7.087460</td>\n",
       "    </tr>\n",
       "    <tr>\n",
       "      <th>2</th>\n",
       "      <td>2002</td>\n",
       "      <td>7.381890</td>\n",
       "      <td>7.110236</td>\n",
       "      <td>7.653543</td>\n",
       "      <td>7.319698</td>\n",
       "    </tr>\n",
       "    <tr>\n",
       "      <th>3</th>\n",
       "      <td>2003</td>\n",
       "      <td>7.759843</td>\n",
       "      <td>7.484252</td>\n",
       "      <td>8.035433</td>\n",
       "      <td>7.488353</td>\n",
       "    </tr>\n",
       "    <tr>\n",
       "      <th>4</th>\n",
       "      <td>2004</td>\n",
       "      <td>7.740157</td>\n",
       "      <td>7.464567</td>\n",
       "      <td>8.015748</td>\n",
       "      <td>7.507933</td>\n",
       "    </tr>\n",
       "    <tr>\n",
       "      <th>5</th>\n",
       "      <td>2005</td>\n",
       "      <td>7.744094</td>\n",
       "      <td>7.472441</td>\n",
       "      <td>8.015748</td>\n",
       "      <td>7.644563</td>\n",
       "    </tr>\n",
       "    <tr>\n",
       "      <th>6</th>\n",
       "      <td>2006</td>\n",
       "      <td>7.917323</td>\n",
       "      <td>7.645669</td>\n",
       "      <td>8.188976</td>\n",
       "      <td>7.697420</td>\n",
       "    </tr>\n",
       "    <tr>\n",
       "      <th>7</th>\n",
       "      <td>2007</td>\n",
       "      <td>7.996063</td>\n",
       "      <td>7.712598</td>\n",
       "      <td>8.279528</td>\n",
       "      <td>7.702147</td>\n",
       "    </tr>\n",
       "    <tr>\n",
       "      <th>8</th>\n",
       "      <td>2008</td>\n",
       "      <td>8.350394</td>\n",
       "      <td>8.078740</td>\n",
       "      <td>8.622047</td>\n",
       "      <td>7.907365</td>\n",
       "    </tr>\n",
       "    <tr>\n",
       "      <th>9</th>\n",
       "      <td>2009</td>\n",
       "      <td>8.586614</td>\n",
       "      <td>8.311024</td>\n",
       "      <td>8.862205</td>\n",
       "      <td>8.046354</td>\n",
       "    </tr>\n",
       "    <tr>\n",
       "      <th>10</th>\n",
       "      <td>2010</td>\n",
       "      <td>8.901575</td>\n",
       "      <td>8.618110</td>\n",
       "      <td>9.185039</td>\n",
       "      <td>8.122973</td>\n",
       "    </tr>\n",
       "    <tr>\n",
       "      <th>11</th>\n",
       "      <td>2011</td>\n",
       "      <td>8.964567</td>\n",
       "      <td>8.661417</td>\n",
       "      <td>9.267717</td>\n",
       "      <td>8.053065</td>\n",
       "    </tr>\n",
       "    <tr>\n",
       "      <th>12</th>\n",
       "      <td>2012</td>\n",
       "      <td>9.326772</td>\n",
       "      <td>8.992126</td>\n",
       "      <td>9.661417</td>\n",
       "      <td>8.457058</td>\n",
       "    </tr>\n",
       "    <tr>\n",
       "      <th>13</th>\n",
       "      <td>2013</td>\n",
       "      <td>8.980315</td>\n",
       "      <td>8.622047</td>\n",
       "      <td>9.338583</td>\n",
       "      <td>8.546648</td>\n",
       "    </tr>\n",
       "  </tbody>\n",
       "</table>\n",
       "</div>"
      ],
      "text/plain": [
       "    Year  CSIRO Adjusted Sea Level  Lower Error Bound  Upper Error Bound  \\\n",
       "0   2000                  7.062992           6.791339           7.334646   \n",
       "1   2001                  7.287402           7.019685           7.555118   \n",
       "2   2002                  7.381890           7.110236           7.653543   \n",
       "3   2003                  7.759843           7.484252           8.035433   \n",
       "4   2004                  7.740157           7.464567           8.015748   \n",
       "5   2005                  7.744094           7.472441           8.015748   \n",
       "6   2006                  7.917323           7.645669           8.188976   \n",
       "7   2007                  7.996063           7.712598           8.279528   \n",
       "8   2008                  8.350394           8.078740           8.622047   \n",
       "9   2009                  8.586614           8.311024           8.862205   \n",
       "10  2010                  8.901575           8.618110           9.185039   \n",
       "11  2011                  8.964567           8.661417           9.267717   \n",
       "12  2012                  9.326772           8.992126           9.661417   \n",
       "13  2013                  8.980315           8.622047           9.338583   \n",
       "\n",
       "    NOAA Adjusted Sea Level  \n",
       "0                  6.920582  \n",
       "1                  7.087460  \n",
       "2                  7.319698  \n",
       "3                  7.488353  \n",
       "4                  7.507933  \n",
       "5                  7.644563  \n",
       "6                  7.697420  \n",
       "7                  7.702147  \n",
       "8                  7.907365  \n",
       "9                  8.046354  \n",
       "10                 8.122973  \n",
       "11                 8.053065  \n",
       "12                 8.457058  \n",
       "13                 8.546648  "
      ]
     },
     "execution_count": 11,
     "metadata": {},
     "output_type": "execute_result"
    }
   ],
   "source": [
    "df_2000 = df[df['Year']>=2000]\n",
    "df_2000 = df_2000.reset_index(drop=True)\n",
    "df_2000"
   ]
  },
  {
   "cell_type": "markdown",
   "id": "65a11d3c-5e4d-4afa-b704-abac60286970",
   "metadata": {},
   "source": [
    "##### Use the `linregress` function from `scipy.stats` to get the slope and y-intercept of the line of best fit from the year 2000"
   ]
  },
  {
   "cell_type": "code",
   "execution_count": 12,
   "id": "f1336e76-92d8-41dd-9d1b-fe9e672f3c81",
   "metadata": {},
   "outputs": [
    {
     "name": "stdout",
     "output_type": "stream",
     "text": [
      "slope: 0.1664272733318682, y-intercept: -325.7934668059649, r_value: 0.9762875716140618, p_value: 2.4388064141618245e-09\n"
     ]
    }
   ],
   "source": [
    "x = df_2000['Year']\n",
    "y = df_2000['CSIRO Adjusted Sea Level']\n",
    "slope, intercept, r_value, p_value, std_err = st(x,y)\n",
    "print(f'slope: {slope}, y-intercept: {intercept}, r_value: {r_value}, p_value: {p_value}')"
   ]
  },
  {
   "cell_type": "markdown",
   "id": "002357bc-c670-4864-9c88-0bad973e08f8",
   "metadata": {},
   "source": [
    "##### Create np.array from 2000 till 2050"
   ]
  },
  {
   "cell_type": "code",
   "execution_count": 13,
   "id": "f9c59b9c-0620-4c9b-a508-246f9fdd35da",
   "metadata": {},
   "outputs": [
    {
     "data": {
      "text/plain": [
       "array([2000, 2001, 2002, 2003, 2004, 2005, 2006, 2007, 2008, 2009, 2010,\n",
       "       2011, 2012, 2013, 2014, 2015, 2016, 2017, 2018, 2019, 2020, 2021,\n",
       "       2022, 2023, 2024, 2025, 2026, 2027, 2028, 2029, 2030, 2031, 2032,\n",
       "       2033, 2034, 2035, 2036, 2037, 2038, 2039, 2040, 2041, 2042, 2043,\n",
       "       2044, 2045, 2046, 2047, 2048, 2049, 2050], dtype=int64)"
      ]
     },
     "execution_count": 13,
     "metadata": {},
     "output_type": "execute_result"
    }
   ],
   "source": [
    "year_2000_2050 = np.arange(df_2000['Year'][0], 2051)\n",
    "year_2000_2050"
   ]
  },
  {
   "cell_type": "code",
   "execution_count": 14,
   "id": "ed058cb2-d44f-4792-bb5d-f6792771513f",
   "metadata": {},
   "outputs": [],
   "source": [
    "intercept_2000_2050 = slope*year_2000_2050 + intercept"
   ]
  },
  {
   "cell_type": "code",
   "execution_count": 15,
   "id": "420c77ea-1049-44a7-a5c5-b9f9eaa4ba0d",
   "metadata": {},
   "outputs": [
    {
     "data": {
      "image/png": "[encoded data removed]",
      "text/plain": [
       "<Figure size 720x576 with 1 Axes>"
      ]
     },
     "metadata": {},
     "output_type": "display_data"
    }
   ],
   "source": [
    "plt.style.use('seaborn')\n",
    "fig, ax = plt.subplots(figsize=(10, 8))\n",
    "df.plot(kind='scatter', x='Year', y='CSIRO Adjusted Sea Level', color='darkblue', ax=ax)\n",
    "\n",
    "plt.plot(year_2000_2050, intercept_2000_2050, color='darkgreen')\n",
    "\n",
    "\n",
    "plt.show()"
   ]
  },
  {
   "cell_type": "markdown",
   "id": "9ba1604e-b182-4f94-b9a8-7382a0b705aa",
   "metadata": {},
   "source": [
    "#### Put created plots together "
   ]
  },
  {
   "cell_type": "code",
   "execution_count": 16,
   "id": "a9915fef-30fe-4d9e-91f6-6a2b2c129534",
   "metadata": {},
   "outputs": [
    {
     "data": {
      "image/png": "[encoded data removed]",
      "text/plain": [
       "<Figure size 720x576 with 1 Axes>"
      ]
     },
     "metadata": {},
     "output_type": "display_data"
    }
   ],
   "source": [
    "plt.style.use('seaborn')\n",
    "fig, ax = plt.subplots(figsize=(10, 8))\n",
    "df.plot(kind='scatter', x='Year', y='CSIRO Adjusted Sea Level', color='darkblue', ax=ax)\n",
    "\n",
    "plt.plot(year_till_2050, intercept_till_2050, color='darkred')\n",
    "plt.plot(year_2000_2050, intercept_2000_2050, color='darkgreen')\n",
    "\n",
    "\n",
    "plt.xlabel('Year')\n",
    "plt.ylabel('Sea Level (inches)')\n",
    "plt.title('Rise in Sea Level')\n",
    "\n",
    "plt.show()"
   ]
  }
 ],
 "metadata": {
  "kernelspec": {
   "display_name": "Python 3",
   "language": "python",
   "name": "python3"
  },
  "language_info": {
   "codemirror_mode": {
    "name": "ipython",
    "version": 3
   },
   "file_extension": ".py",
   "mimetype": "text/x-python",
   "name": "python",
   "nbconvert_exporter": "python",
   "pygments_lexer": "ipython3",
   "version": "3.9.6"
  }
 },
 "nbformat": 4,
 "nbformat_minor": 5
}
